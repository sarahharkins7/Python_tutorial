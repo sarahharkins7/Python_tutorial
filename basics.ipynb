{
 "cells": [
  {
   "cell_type": "markdown",
   "id": "6955d5fc",
   "metadata": {},
   "source": [
    "## Lists"
   ]
  },
  {
   "cell_type": "code",
   "execution_count": 1,
   "id": "d9498e23",
   "metadata": {},
   "outputs": [
    {
     "name": "stdout",
     "output_type": "stream",
     "text": [
      "['to wong foo', [3, 5, 7]]\n"
     ]
    }
   ],
   "source": [
    "mylist = [] # This is an empty list. Lists are the most basic mutable type, and \n",
    "            #   are what you should use anytime you will need to add or remove things.\n",
    "            #   They can hold any combination of any type of object, including\n",
    "            #   other lists.\n",
    "mylist.append('to wong foo') # this appends a string\n",
    "mylist.append([3,5,7]) # this appends a list of numbers\n",
    "print(mylist)"
   ]
  },
  {
   "cell_type": "code",
   "execution_count": 2,
   "id": "f130fbff",
   "metadata": {},
   "outputs": [
    {
     "name": "stdout",
     "output_type": "stream",
     "text": [
      "['is a great movie', 'to wong foo', 0, 0, 0, 0, 0]\n"
     ]
    }
   ],
   "source": [
    "# Because lists are mutable, you can assign to them and there are methods which \n",
    "#   alter them in-place.\n",
    "mylist[1] = 'is a great movie'\n",
    "mylist.reverse()\n",
    "# Addition concatenates lists\n",
    "print(mylist+[0,0,0,0,0])"
   ]
  },
  {
   "cell_type": "markdown",
   "id": "08b5dc09",
   "metadata": {},
   "source": [
    "## Tuples"
   ]
  },
  {
   "cell_type": "code",
   "execution_count": 3,
   "id": "7b0a5392",
   "metadata": {},
   "outputs": [
    {
     "name": "stdout",
     "output_type": "stream",
     "text": [
      "(1, (2, 3), 'wow')\n",
      "o\n"
     ]
    }
   ],
   "source": [
    "mytup = (1,(2,3),'wow') # Tuples are immutable container types. They are just\n",
    "                        #   like lists, but they can't be changed once created.\n",
    "                        #   So: no appending or assignment!\n",
    "\n",
    "print(mytup)\n",
    "print(mytup[2][1])\n",
    "# These are useful if you want to be sure the contents don't change."
   ]
  },
  {
   "cell_type": "markdown",
   "id": "cccf613f",
   "metadata": {},
   "source": [
    "## Strings"
   ]
  },
  {
   "cell_type": "code",
   "execution_count": 4,
   "id": "a2da433a",
   "metadata": {},
   "outputs": [
    {
     "name": "stdout",
     "output_type": "stream",
     "text": [
      "Have some spam.\n"
     ]
    }
   ],
   "source": [
    "spam = 'Have some spam.' # This is a string. It's an immutable type.\n",
    "eggs = \"Have some eggs.\" # You can use double or single quotes for strings\n",
    "                         \n",
    "print(spam) # Prints the string to the terminal and starts a new line."
   ]
  },
  {
   "cell_type": "code",
   "execution_count": 5,
   "id": "17d7dc8d",
   "metadata": {},
   "outputs": [
    {
     "name": "stdout",
     "output_type": "stream",
     "text": [
      "Have Have some \n"
     ]
    }
   ],
   "source": [
    "# Remember that Python is base 0.\n",
    "# Like lists and tuples, strings are \"iterables\". You can index into them.\n",
    "# All intervals in Python include the left endpoint and exclude the right one.\n",
    "# Also: addition concatenates strings\n",
    "print(spam[0:5] + spam[:10])"
   ]
  },
  {
   "cell_type": "code",
   "execution_count": 6,
   "id": "841d4e0b",
   "metadata": {},
   "outputs": [
    {
     "name": "stdout",
     "output_type": "stream",
     "text": [
      "aesm \n",
      ".sgge emos evaH\n"
     ]
    }
   ],
   "source": [
    "# You can use indexing to go through iterables in different ways\n",
    "print(eggs[1:10:2])\n",
    "print(eggs[::-1])"
   ]
  },
  {
   "cell_type": "code",
   "execution_count": 7,
   "id": "3fdce27c",
   "metadata": {},
   "outputs": [
    {
     "name": "stdout",
     "output_type": "stream",
     "text": [
      "The pirate says 7, win!!!\n"
     ]
    }
   ],
   "source": [
    "# You can use the format property of a string to replace {} with text, etc.\n",
    "pirate_call = 'The pirate says {}, {}!!!'.format(2+5,'win')\n",
    "print(pirate_call)"
   ]
  },
  {
   "cell_type": "markdown",
   "id": "745ae98f",
   "metadata": {},
   "source": [
    "## Dictionaries"
   ]
  },
  {
   "cell_type": "code",
   "execution_count": 8,
   "id": "94001215",
   "metadata": {},
   "outputs": [
    {
     "name": "stdout",
     "output_type": "stream",
     "text": [
      "{'color': 'blue', 'number': 3}\n",
      "blue\n"
     ]
    }
   ],
   "source": [
    "mydict = {} # This is an empty dict. It's mutable.\n",
    "            #   Dicts are made up of key-value pairs. Keys can be any immutable,\n",
    "            #   and they point to a value which can be any object.\n",
    "            #   While they are iterable (you can iterate through them using \n",
    "            #   techniques TBD later), they are NOT ordered in any way.\n",
    "mydict['color'] = 'blue' # color points to 'blue'\n",
    "mydict['number'] = 3 # 'number' points to 3\n",
    "print(mydict)\n",
    "print(mydict['color'])"
   ]
  },
  {
   "cell_type": "markdown",
   "id": "d0b239c1",
   "metadata": {},
   "source": [
    "## Numpy Arrays"
   ]
  },
  {
   "cell_type": "code",
   "execution_count": null,
   "id": "8cab97c2",
   "metadata": {},
   "outputs": [],
   "source": [
    "import numpy as np\n",
    "# (Nearly) everything in NumPy uses the array datatype.\n",
    "# It is mutable, but has a fixed shape and should only contain a single datatype\n",
    "#   (usually numbers, and most usually floating point numbers)\n",
    "# You can create an array out of a list, or a list of lists.\n",
    "A = np.array([[1,2,3],[4,5,6],[7,8,9]]) # 3x3 array of integers\n",
    "print(f'A = {A}')\n",
    "print(A[1,0])\n",
    "print(A[0,:])"
   ]
  },
  {
   "cell_type": "code",
   "execution_count": null,
   "id": "b3dba06e",
   "metadata": {},
   "outputs": [],
   "source": [
    "# Arrays have a number of attributes\n",
    "print(A.shape)\n",
    "x,y = A.shape\n",
    "print(f'The shape of A is {x} by {y}.')"
   ]
  },
  {
   "cell_type": "code",
   "execution_count": 10,
   "id": "4ac114f9",
   "metadata": {},
   "outputs": [],
   "source": [
    "# There are a number of routines to create arrays.\n",
    "#  NOTE: Arrays must be created with a certain shape and maintain that shape.\n",
    "#  Any change to the shape is essentially destroying the array and recreating it from scratch.\n",
    "#  Often, an array of zeros is created and then filled in later.\n",
    "myarray = np.zeros((4,5))\n",
    "print(myarray)"
   ]
  },
  {
   "cell_type": "code",
   "execution_count": null,
   "id": "a2438590",
   "metadata": {},
   "outputs": [],
   "source": [
    "# Arrays can be of any dimension\n",
    "array3 = np.ones((4,3,2))"
   ]
  },
  {
   "cell_type": "code",
   "execution_count": null,
   "id": "1f3bd1c2",
   "metadata": {},
   "outputs": [],
   "source": [
    "B = np.random.rand(3,3) # 3x3 array of floating point numbers between 0 and 1\n",
    "print(f'B = {B}')"
   ]
  },
  {
   "cell_type": "code",
   "execution_count": null,
   "id": "7378c11e",
   "metadata": {},
   "outputs": [],
   "source": [
    "# All operations are elementwise.\n",
    "print('Element-wise multiplication:')\n",
    "print(A*B)"
   ]
  },
  {
   "cell_type": "code",
   "execution_count": null,
   "id": "01a1e084",
   "metadata": {},
   "outputs": [],
   "source": [
    "# In Python 3.5+, we also have @ which is matrix multiplication\n",
    "print('Matrix multiplicaton:')\n",
    "print(A@B)\n",
    "# That doesn't always work well for matrix-vector multiplication, \n",
    "#   because vectors are typically rows (Python is a row-major language).\n",
    "#   Instead, use np.dot\n",
    "v = np.array([2,1,2])\n",
    "print(np.dot(A,v))"
   ]
  },
  {
   "cell_type": "code",
   "execution_count": null,
   "id": "d5be4a02",
   "metadata": {},
   "outputs": [],
   "source": [
    "# Tons of other routines can be found in the numpy library. The docs are fantastic!!"
   ]
  }
 ],
 "metadata": {
  "kernelspec": {
   "display_name": "Python 3 (ipykernel)",
   "language": "python",
   "name": "python3"
  },
  "language_info": {
   "codemirror_mode": {
    "name": "ipython",
    "version": 3
   },
   "file_extension": ".py",
   "mimetype": "text/x-python",
   "name": "python",
   "nbconvert_exporter": "python",
   "pygments_lexer": "ipython3",
   "version": "3.11.4"
  }
 },
 "nbformat": 4,
 "nbformat_minor": 5
}
