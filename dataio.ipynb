{
 "cells": [
  {
   "cell_type": "markdown",
   "id": "8ca46c05",
   "metadata": {},
   "source": [
    "## Example methods for reading/writing data files."
   ]
  },
  {
   "cell_type": "markdown",
   "id": "7c1cf89d",
   "metadata": {},
   "source": [
    "If the data is a simple, numerical csv, you can use np.loadtxt to load it into a numpy array."
   ]
  },
  {
   "cell_type": "code",
   "execution_count": 2,
   "id": "c51c1feb",
   "metadata": {},
   "outputs": [
    {
     "name": "stdout",
     "output_type": "stream",
     "text": [
      "[[0.0000e+00 1.0610e+05]\n",
      " [8.3100e-02 9.3240e+04]\n",
      " [1.4650e-01 1.6672e+05]\n",
      " [2.5870e-01 1.5378e+05]\n",
      " [4.8280e-01 1.1880e+05]\n",
      " [7.4480e-01 1.1690e+05]\n",
      " [9.8170e-01 1.0957e+05]\n",
      " [1.2563e+00 1.1135e+05]\n",
      " [1.4926e+00 7.4388e+04]\n",
      " [1.7299e+00 8.3291e+04]\n",
      " [1.9915e+00 6.6435e+04]\n",
      " [3.0011e+00 3.5408e+04]\n",
      " [4.0109e+00 2.1125e+04]\n",
      " [5.0090e+00 2.0450e+04]\n",
      " [5.9943e+00 1.5798e+04]\n",
      " [7.0028e+00 4.7852e+03]]\n"
     ]
    }
   ],
   "source": [
    "import numpy as np\n",
    "import scipy.io as io\n",
    "data_filename = \"01HIVseries/HIVseries.csv\"\n",
    "\n",
    "data_set = np.loadtxt(data_filename, delimiter=',')\n",
    "print(data_set)"
   ]
  },
  {
   "cell_type": "markdown",
   "id": "0c4641d6",
   "metadata": {},
   "source": [
    "MATLAB .mat files can be read similarly, using scipy.io. \n",
    "### **An important note about this:** \n",
    "After version 7.2, MATLAB went to an HDF5 format for its mat files. You can read them with the h5py package (download and install with conda by typing the command \"conda install h5py\" into a terminal). scipy.io will not read these HDF5 files, so you can only use it with versions 7.2 and under. \n",
    "\n",
    "If you are saving a mat file in MATLAB and want to open it with scipy.io, use the command save('data.mat', '-v7')"
   ]
  },
  {
   "cell_type": "code",
   "execution_count": 3,
   "id": "22a1c0ed",
   "metadata": {},
   "outputs": [
    {
     "name": "stdout",
     "output_type": "stream",
     "text": [
      "{'__header__': b'MATLAB 5.0 MAT-file, Platform: MACI, Created on: Thu Sep  4 20:40:56 2008', '__version__': '1.0', '__globals__': [], 'a': array([[0.00000000e+00, 1.06096242e+05],\n",
      "       [8.31000000e-02, 9.32395138e+04],\n",
      "       [1.46500000e-01, 1.66724721e+05],\n",
      "       [2.58700000e-01, 1.53780051e+05],\n",
      "       [4.82800000e-01, 1.18795503e+05],\n",
      "       [7.44800000e-01, 1.16896094e+05],\n",
      "       [9.81700000e-01, 1.09572104e+05],\n",
      "       [1.25630000e+00, 1.11352507e+05],\n",
      "       [1.49260000e+00, 7.43875063e+04],\n",
      "       [1.72990000e+00, 8.32913689e+04],\n",
      "       [1.99150000e+00, 6.64354682e+04],\n",
      "       [3.00110000e+00, 3.54078861e+04],\n",
      "       [4.01090000e+00, 2.11251597e+04],\n",
      "       [5.00900000e+00, 2.04503149e+04],\n",
      "       [5.99430000e+00, 1.57979233e+04],\n",
      "       [7.00280000e+00, 4.78519896e+03]])}\n"
     ]
    }
   ],
   "source": [
    "mat_data = io.loadmat(data_filename[:-4]+'.mat')\n",
    "# In this case, you get out a dictionary which tells you the variable names and the values assigned to them.\n",
    "print(mat_data)"
   ]
  },
  {
   "cell_type": "code",
   "execution_count": 4,
   "id": "28b5fc4c",
   "metadata": {},
   "outputs": [
    {
     "name": "stdout",
     "output_type": "stream",
     "text": [
      "[[0.00000000e+00 1.06096242e+05]\n",
      " [8.31000000e-02 9.32395138e+04]\n",
      " [1.46500000e-01 1.66724721e+05]\n",
      " [2.58700000e-01 1.53780051e+05]\n",
      " [4.82800000e-01 1.18795503e+05]\n",
      " [7.44800000e-01 1.16896094e+05]\n",
      " [9.81700000e-01 1.09572104e+05]\n",
      " [1.25630000e+00 1.11352507e+05]\n",
      " [1.49260000e+00 7.43875063e+04]\n",
      " [1.72990000e+00 8.32913689e+04]\n",
      " [1.99150000e+00 6.64354682e+04]\n",
      " [3.00110000e+00 3.54078861e+04]\n",
      " [4.01090000e+00 2.11251597e+04]\n",
      " [5.00900000e+00 2.04503149e+04]\n",
      " [5.99430000e+00 1.57979233e+04]\n",
      " [7.00280000e+00 4.78519896e+03]]\n"
     ]
    }
   ],
   "source": [
    "# The HIV data was called \"a\"\n",
    "print(mat_data['a'])"
   ]
  },
  {
   "cell_type": "markdown",
   "id": "3036db4d",
   "metadata": {},
   "source": [
    "scipy.io can save mat files too, which you can then open in MATLAB. Just use scipy.io.savemat.\n",
    "\n",
    "Numpy has its own, native file format for quickly saving and opening numpy arrays. It is called .npy. It is a binary file, which means it is not human readable. Don't expect to be able to open it outside of using numpy. If you want other people to read your data, or you might need to open the data outside of python, use something else."
   ]
  },
  {
   "cell_type": "code",
   "execution_count": 5,
   "id": "295ab610",
   "metadata": {},
   "outputs": [],
   "source": [
    "x = np.linspace(0,1,1001)\n",
    "y = 3*np.sin(x)**3 - np.sin(x)\n",
    "\n",
    "np.save('x_values', x)\n",
    "np.save('y_values', y)"
   ]
  },
  {
   "cell_type": "markdown",
   "id": "8f203d2d",
   "metadata": {},
   "source": [
    "You can save several variables zipped together into a npz file using np.savez."
   ]
  },
  {
   "cell_type": "code",
   "execution_count": 6,
   "id": "72440980",
   "metadata": {},
   "outputs": [],
   "source": [
    "np.savez('xy_values', x_vals=x, y_vals=y)"
   ]
  },
  {
   "cell_type": "markdown",
   "id": "50f0d63a",
   "metadata": {},
   "source": [
    "You can load npy files using np.load, pretty much the same way that we previously loaded csv files. npz files work a bit differently. You get an NpzFile object.\n",
    "\n",
    "The names of the variables are set by the keyword argument names we used when we called np.savez. You can get a list of all of the variable names by looking at xydata.files. Then you can access the data by using the NpzFile object like a dictionary."
   ]
  },
  {
   "cell_type": "code",
   "execution_count": 7,
   "id": "353c60c5",
   "metadata": {},
   "outputs": [
    {
     "name": "stdout",
     "output_type": "stream",
     "text": [
      "['x_vals', 'y_vals']\n",
      "[0.    0.001 0.002 ... 0.998 0.999 1.   ]\n",
      "[ 0.         -0.001      -0.00199997 ...  0.94019283  0.94309582\n",
      "  0.94599872]\n"
     ]
    }
   ],
   "source": [
    "xydata = np.load('xy_values.npz')\n",
    "print(xydata.files)\n",
    "x_loaded = xydata['x_vals']\n",
    "y_loaded = xydata['y_vals']\n",
    "print(x_loaded)\n",
    "print(y_loaded)"
   ]
  },
  {
   "cell_type": "markdown",
   "id": "87cfa353",
   "metadata": {},
   "source": [
    "### But if you have more complex data, e.g. with non-numerical types, header information, etc., you really need to switch over to pandas. Pandas is a fast and powerful data analysis library for Python"
   ]
  },
  {
   "cell_type": "code",
   "execution_count": 1,
   "id": "76c04da1",
   "metadata": {},
   "outputs": [
    {
     "data": {
      "text/html": [
       "<div>\n",
       "<style scoped>\n",
       "    .dataframe tbody tr th:only-of-type {\n",
       "        vertical-align: middle;\n",
       "    }\n",
       "\n",
       "    .dataframe tbody tr th {\n",
       "        vertical-align: top;\n",
       "    }\n",
       "\n",
       "    .dataframe thead th {\n",
       "        text-align: right;\n",
       "    }\n",
       "</style>\n",
       "<table border=\"1\" class=\"dataframe\">\n",
       "  <thead>\n",
       "    <tr style=\"text-align: right;\">\n",
       "      <th></th>\n",
       "      <th>CD</th>\n",
       "      <th>Incumbent</th>\n",
       "      <th>Party</th>\n",
       "      <th>Clinton\\n2016</th>\n",
       "      <th>Trump\\n2016</th>\n",
       "      <th>Obama\\n2012</th>\n",
       "      <th>Romney\\n2012</th>\n",
       "      <th>Obama\\n2008</th>\n",
       "      <th>McCain\\n2008</th>\n",
       "    </tr>\n",
       "  </thead>\n",
       "  <tbody>\n",
       "    <tr>\n",
       "      <th>0</th>\n",
       "      <td>AK-AL</td>\n",
       "      <td>Young, Don</td>\n",
       "      <td>(R)</td>\n",
       "      <td>37.6</td>\n",
       "      <td>52.8</td>\n",
       "      <td>41.2</td>\n",
       "      <td>55.3</td>\n",
       "      <td>38.1</td>\n",
       "      <td>59.7</td>\n",
       "    </tr>\n",
       "    <tr>\n",
       "      <th>1</th>\n",
       "      <td>AL-01</td>\n",
       "      <td>Byrne, Bradley</td>\n",
       "      <td>(R)</td>\n",
       "      <td>34.1</td>\n",
       "      <td>63.5</td>\n",
       "      <td>37.4</td>\n",
       "      <td>61.8</td>\n",
       "      <td>38.5</td>\n",
       "      <td>60.9</td>\n",
       "    </tr>\n",
       "    <tr>\n",
       "      <th>2</th>\n",
       "      <td>AL-02</td>\n",
       "      <td>Roby, Martha</td>\n",
       "      <td>(R)</td>\n",
       "      <td>33.0</td>\n",
       "      <td>64.9</td>\n",
       "      <td>36.4</td>\n",
       "      <td>62.9</td>\n",
       "      <td>35.0</td>\n",
       "      <td>64.5</td>\n",
       "    </tr>\n",
       "    <tr>\n",
       "      <th>3</th>\n",
       "      <td>AL-03</td>\n",
       "      <td>Rogers, Mike</td>\n",
       "      <td>(R)</td>\n",
       "      <td>32.3</td>\n",
       "      <td>65.3</td>\n",
       "      <td>36.8</td>\n",
       "      <td>62.3</td>\n",
       "      <td>36.6</td>\n",
       "      <td>62.6</td>\n",
       "    </tr>\n",
       "    <tr>\n",
       "      <th>4</th>\n",
       "      <td>AL-04</td>\n",
       "      <td>Aderholt, Rob</td>\n",
       "      <td>(R)</td>\n",
       "      <td>17.4</td>\n",
       "      <td>80.4</td>\n",
       "      <td>24.0</td>\n",
       "      <td>74.8</td>\n",
       "      <td>25.5</td>\n",
       "      <td>73.3</td>\n",
       "    </tr>\n",
       "    <tr>\n",
       "      <th>...</th>\n",
       "      <td>...</td>\n",
       "      <td>...</td>\n",
       "      <td>...</td>\n",
       "      <td>...</td>\n",
       "      <td>...</td>\n",
       "      <td>...</td>\n",
       "      <td>...</td>\n",
       "      <td>...</td>\n",
       "      <td>...</td>\n",
       "    </tr>\n",
       "    <tr>\n",
       "      <th>430</th>\n",
       "      <td>WI-08</td>\n",
       "      <td>Gallagher, Mike</td>\n",
       "      <td>(R)</td>\n",
       "      <td>38.6</td>\n",
       "      <td>56.2</td>\n",
       "      <td>47.6</td>\n",
       "      <td>51.3</td>\n",
       "      <td>53.7</td>\n",
       "      <td>45.0</td>\n",
       "    </tr>\n",
       "    <tr>\n",
       "      <th>431</th>\n",
       "      <td>WV-01</td>\n",
       "      <td>McKinley, David</td>\n",
       "      <td>(R)</td>\n",
       "      <td>26.4</td>\n",
       "      <td>68.0</td>\n",
       "      <td>35.5</td>\n",
       "      <td>62.2</td>\n",
       "      <td>41.5</td>\n",
       "      <td>56.7</td>\n",
       "    </tr>\n",
       "    <tr>\n",
       "      <th>432</th>\n",
       "      <td>WV-02</td>\n",
       "      <td>Mooney, Alex</td>\n",
       "      <td>(R)</td>\n",
       "      <td>29.4</td>\n",
       "      <td>65.8</td>\n",
       "      <td>38.0</td>\n",
       "      <td>60.0</td>\n",
       "      <td>43.9</td>\n",
       "      <td>54.7</td>\n",
       "    </tr>\n",
       "    <tr>\n",
       "      <th>433</th>\n",
       "      <td>WV-03</td>\n",
       "      <td>Jenkins, Evan</td>\n",
       "      <td>(R)</td>\n",
       "      <td>23.3</td>\n",
       "      <td>72.5</td>\n",
       "      <td>32.8</td>\n",
       "      <td>65.0</td>\n",
       "      <td>42.3</td>\n",
       "      <td>55.7</td>\n",
       "    </tr>\n",
       "    <tr>\n",
       "      <th>434</th>\n",
       "      <td>WY-AL</td>\n",
       "      <td>Cheney, Liz</td>\n",
       "      <td>(R)</td>\n",
       "      <td>22.5</td>\n",
       "      <td>70.1</td>\n",
       "      <td>27.6</td>\n",
       "      <td>68.2</td>\n",
       "      <td>32.7</td>\n",
       "      <td>65.2</td>\n",
       "    </tr>\n",
       "  </tbody>\n",
       "</table>\n",
       "<p>435 rows × 9 columns</p>\n",
       "</div>"
      ],
      "text/plain": [
       "        CD        Incumbent Party  Clinton\\n2016  Trump\\n2016  Obama\\n2012  \\\n",
       "0    AK-AL       Young, Don   (R)           37.6         52.8         41.2   \n",
       "1    AL-01   Byrne, Bradley   (R)           34.1         63.5         37.4   \n",
       "2    AL-02     Roby, Martha   (R)           33.0         64.9         36.4   \n",
       "3    AL-03     Rogers, Mike   (R)           32.3         65.3         36.8   \n",
       "4    AL-04    Aderholt, Rob   (R)           17.4         80.4         24.0   \n",
       "..     ...              ...   ...            ...          ...          ...   \n",
       "430  WI-08  Gallagher, Mike   (R)           38.6         56.2         47.6   \n",
       "431  WV-01  McKinley, David   (R)           26.4         68.0         35.5   \n",
       "432  WV-02     Mooney, Alex   (R)           29.4         65.8         38.0   \n",
       "433  WV-03    Jenkins, Evan   (R)           23.3         72.5         32.8   \n",
       "434  WY-AL      Cheney, Liz   (R)           22.5         70.1         27.6   \n",
       "\n",
       "     Romney\\n2012  Obama\\n2008  McCain\\n2008  \n",
       "0            55.3         38.1          59.7  \n",
       "1            61.8         38.5          60.9  \n",
       "2            62.9         35.0          64.5  \n",
       "3            62.3         36.6          62.6  \n",
       "4            74.8         25.5          73.3  \n",
       "..            ...          ...           ...  \n",
       "430          51.3         53.7          45.0  \n",
       "431          62.2         41.5          56.7  \n",
       "432          60.0         43.9          54.7  \n",
       "433          65.0         42.3          55.7  \n",
       "434          68.2         32.7          65.2  \n",
       "\n",
       "[435 rows x 9 columns]"
      ]
     },
     "execution_count": 1,
     "metadata": {},
     "output_type": "execute_result"
    }
   ],
   "source": [
    "import pandas as pd\n",
    "elections = pd.read_csv('Daily_Kos_Elections_08_12_16_congress_districts.csv')\n",
    "elections"
   ]
  },
  {
   "cell_type": "code",
   "execution_count": null,
   "id": "a06a7f1f",
   "metadata": {},
   "outputs": [],
   "source": []
  }
 ],
 "metadata": {
  "kernelspec": {
   "display_name": "Python 3 (ipykernel)",
   "language": "python",
   "name": "python3"
  },
  "language_info": {
   "codemirror_mode": {
    "name": "ipython",
    "version": 3
   },
   "file_extension": ".py",
   "mimetype": "text/x-python",
   "name": "python",
   "nbconvert_exporter": "python",
   "pygments_lexer": "ipython3",
   "version": "3.11.4"
  }
 },
 "nbformat": 4,
 "nbformat_minor": 5
}
